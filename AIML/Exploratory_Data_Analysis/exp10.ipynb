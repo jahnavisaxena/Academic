{
 "cells": [
  {
   "cell_type": "code",
   "execution_count": 1,
   "metadata": {},
   "outputs": [],
   "source": [
    "import numpy as np\n",
    "import pandas as pd\n",
    "from sklearn.preprocessing import MinMaxScaler, StandardScaler, RobustScaler"
   ]
  },
  {
   "cell_type": "code",
   "execution_count": 2,
   "metadata": {},
   "outputs": [
    {
     "name": "stdout",
     "output_type": "stream",
     "text": [
      "Original Data:\n",
      "   Height  Weight  Age\n",
      "0     150      65   25\n",
      "1     160      72   32\n",
      "2     170      85   40\n",
      "3     180      90   50\n",
      "4     190     110   60\n"
     ]
    }
   ],
   "source": [
    "data = {'Height': [150, 160, 170, 180, 190],\n",
    " \n",
    "'Weight': [65, 72, 85, 90, 110],\n",
    " 'Age': [25, 32, 40, 50, 60]\n",
    " }\n",
    "df = pd.DataFrame(data)\n",
    "print(\"Original Data:\")\n",
    "print(df)"
   ]
  },
  {
   "cell_type": "code",
   "execution_count": 3,
   "metadata": {},
   "outputs": [
    {
     "name": "stdout",
     "output_type": "stream",
     "text": [
      "\n",
      "Min-Max Scaled Data (Normalized):\n",
      "   Height    Weight       Age\n",
      "0    0.00  0.000000  0.000000\n",
      "1    0.25  0.155556  0.200000\n",
      "2    0.50  0.444444  0.428571\n",
      "3    0.75  0.555556  0.714286\n",
      "4    1.00  1.000000  1.000000\n"
     ]
    }
   ],
   "source": [
    "min_max_scaler = MinMaxScaler()\n",
    "df_min_max_scaled = pd.DataFrame(min_max_scaler.fit_transform(df), columns=df.columns)\n",
    "print(\"\\nMin-Max Scaled Data (Normalized):\")\n",
    "print(df_min_max_scaled)"
   ]
  },
  {
   "cell_type": "code",
   "execution_count": 4,
   "metadata": {},
   "outputs": [
    {
     "name": "stdout",
     "output_type": "stream",
     "text": [
      "\n",
      "Standardized Data (Z-Score):\n",
      "     Height    Weight       Age\n",
      "0 -1.414214 -1.243385 -1.313725\n",
      "1 -0.707107 -0.794741 -0.752989\n",
      "2  0.000000  0.038455 -0.112147\n",
      "3  0.707107  0.358915  0.688904\n",
      "4  1.414214  1.640756  1.489956\n"
     ]
    }
   ],
   "source": [
    "standard_scaler = StandardScaler()\n",
    "df_standard_scaled = pd.DataFrame(standard_scaler.fit_transform(df), columns=df.columns)\n",
    "print(\"\\nStandardized Data (Z-Score):\")\n",
    "print(df_standard_scaled)"
   ]
  },
  {
   "cell_type": "code",
   "execution_count": 5,
   "metadata": {},
   "outputs": [
    {
     "name": "stdout",
     "output_type": "stream",
     "text": [
      "\n",
      "Robust Scaled Data:\n",
      "   Height    Weight       Age\n",
      "0    -1.0 -1.111111 -0.833333\n",
      "1    -0.5 -0.722222 -0.444444\n",
      "2     0.0  0.000000  0.000000\n",
      "3     0.5  0.277778  0.555556\n",
      "4     1.0  1.388889  1.111111\n"
     ]
    }
   ],
   "source": [
    "robust_scaler = RobustScaler()\n",
    "df_robust_scaled = pd.DataFrame(robust_scaler.fit_transform(df), columns=df.columns)\n",
    "print(\"\\nRobust Scaled Data:\")\n",
    "print(df_robust_scaled)"
   ]
  }
 ],
 "metadata": {
  "kernelspec": {
   "display_name": "Python 3",
   "language": "python",
   "name": "python3"
  },
  "language_info": {
   "codemirror_mode": {
    "name": "ipython",
    "version": 3
   },
   "file_extension": ".py",
   "mimetype": "text/x-python",
   "name": "python",
   "nbconvert_exporter": "python",
   "pygments_lexer": "ipython3",
   "version": "3.12.1"
  }
 },
 "nbformat": 4,
 "nbformat_minor": 2
}
