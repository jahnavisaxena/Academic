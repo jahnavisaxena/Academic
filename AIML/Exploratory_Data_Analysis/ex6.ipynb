{
 "cells": [
  {
   "cell_type": "code",
   "execution_count": 3,
   "metadata": {},
   "outputs": [],
   "source": [
    "import pandas as pd\n",
    "import numpy as np"
   ]
  },
  {
   "cell_type": "code",
   "execution_count": 4,
   "metadata": {},
   "outputs": [
    {
     "name": "stdout",
     "output_type": "stream",
     "text": [
      "Sample DataFrame:\n",
      "   School ID     Name         Address         City  Subject  Marks  Rank Grade\n",
      "0      101.0    Alice     123 Main St  Los Angeles     Math   85.0     2     B\n",
      "1      102.0      Bob     456 Oak Ave     New York  English   92.0     1     A\n",
      "2      103.0  Charlie     789 Pine Ln      Houston  Science   78.0     4     C\n",
      "3        NaN    David      101 Elm St  Los Angeles     Math   89.0     3     B\n",
      "4      105.0      Eva             NaN        Miami  History    NaN     8     D\n",
      "5      106.0    Frank    222 Maple Rd          NaN     Math   95.0     1     A\n",
      "6      107.0    Grace  444 Cedar Blvd      Houston  Science   80.0     5     C\n",
      "7      108.0    Henry    555 Birch Dr     New York  English   88.0     3     B\n"
     ]
    }
   ],
   "source": [
    "data = {\n",
    "    'School ID': [101, 102, 103, np.nan, 105, 106, 107, 108],\n",
    "    'Name': ['Alice', 'Bob', 'Charlie', 'David', 'Eva', 'Frank', 'Grace', 'Henry'],\n",
    "    'Address': ['123 Main St', '456 Oak Ave', '789 Pine Ln', '101 Elm St', np.nan, '222 Maple Rd', '444 Cedar Blvd', '555 Birch Dr'],\n",
    "    'City': ['Los Angeles', 'New York', 'Houston', 'Los Angeles', 'Miami', np.nan, 'Houston', 'New York'],\n",
    "    'Subject': ['Math', 'English', 'Science', 'Math', 'History', 'Math', 'Science', 'English'],\n",
    "    'Marks': [85, 92, 78, 89, np.nan, 95, 80, 88],\n",
    "    'Rank': [2, 1, 4, 3, 8, 1, 5, 3],\n",
    "    'Grade': ['B', 'A', 'C', 'B', 'D', 'A', 'C', 'B']\n",
    "}\n",
    "\n",
    "df = pd.DataFrame(data)\n",
    "print(\"Sample DataFrame:\")\n",
    "\n",
    "print(df)\n"
   ]
  },
  {
   "cell_type": "code",
   "execution_count": 3,
   "metadata": {},
   "outputs": [
    {
     "name": "stdout",
     "output_type": "stream",
     "text": [
      "\n",
      "DataFrame after removing rows with missing values:\n",
      "   School ID     Name         Address         City  Subject  Marks  Rank Grade\n",
      "0      101.0    Alice     123 Main St  Los Angeles     Math   85.0     2     B\n",
      "1      102.0      Bob     456 Oak Ave     New York  English   92.0     1     A\n",
      "2      103.0  Charlie     789 Pine Ln      Houston  Science   78.0     4     C\n",
      "6      107.0    Grace  444 Cedar Blvd      Houston  Science   80.0     5     C\n",
      "7      108.0    Henry    555 Birch Dr     New York  English   88.0     3     B\n"
     ]
    }
   ],
   "source": [
    "df_cleaned = df.dropna()\n",
    "\n",
    "# Displaying the DataFrame after removing missing values\n",
    "print(\"\\nDataFrame after removing rows with missing values:\")\n",
    "print(df_cleaned)\n"
   ]
  },
  {
   "cell_type": "code",
   "execution_count": 4,
   "metadata": {},
   "outputs": [
    {
     "name": "stdout",
     "output_type": "stream",
     "text": [
      "\n",
      "Imputation using Mean:\n",
      "0    85.000000\n",
      "1    92.000000\n",
      "2    78.000000\n",
      "3    89.000000\n",
      "4    86.714286\n",
      "5    95.000000\n",
      "6    80.000000\n",
      "7    88.000000\n",
      "Name: Marks, dtype: float64\n",
      "\n",
      "Imputation using Median:\n",
      "0    85.0\n",
      "1    92.0\n",
      "2    78.0\n",
      "3    89.0\n",
      "4    88.0\n",
      "5    95.0\n",
      "6    80.0\n",
      "7    88.0\n",
      "Name: Marks, dtype: float64\n",
      "\n",
      "Imputation using Mode:\n",
      "0    85.0\n",
      "1    92.0\n",
      "2    78.0\n",
      "3    89.0\n",
      "4    78.0\n",
      "5    95.0\n",
      "6    80.0\n",
      "7    88.0\n",
      "Name: Marks, dtype: float64\n"
     ]
    }
   ],
   "source": [
    "mean_imputation = df['Marks'].fillna(df['Marks'].mean())\n",
    "median_imputation = df['Marks'].fillna(df['Marks'].median())\n",
    "mode_imputation = df['Marks'].fillna(df['Marks'].mode().iloc[0])\n",
    "\n",
    "print(\"\\nImputation using Mean:\")\n",
    "print(mean_imputation)\n",
    "\n",
    "print(\"\\nImputation using Median:\")\n",
    "print(median_imputation)\n",
    "\n",
    "print(\"\\nImputation using Mode:\")\n",
    "print(mode_imputation)\n"
   ]
  },
  {
   "cell_type": "code",
   "execution_count": 5,
   "metadata": {},
   "outputs": [
    {
     "name": "stdout",
     "output_type": "stream",
     "text": [
      "\n",
      "Forward Fill:\n",
      "0    85.0\n",
      "1    92.0\n",
      "2    78.0\n",
      "3    89.0\n",
      "4    89.0\n",
      "5    95.0\n",
      "6    80.0\n",
      "7    88.0\n",
      "Name: Marks, dtype: float64\n",
      "\n",
      "Backward Fill:\n",
      "0    85.0\n",
      "1    92.0\n",
      "2    78.0\n",
      "3    89.0\n",
      "4    95.0\n",
      "5    95.0\n",
      "6    80.0\n",
      "7    88.0\n",
      "Name: Marks, dtype: float64\n"
     ]
    },
    {
     "name": "stderr",
     "output_type": "stream",
     "text": [
      "C:\\Users\\JAHNAVI SAXENA\\AppData\\Local\\Temp\\ipykernel_17552\\712988860.py:2: FutureWarning: Series.fillna with 'method' is deprecated and will raise in a future version. Use obj.ffill() or obj.bfill() instead.\n",
      "  forward_fill = df['Marks'].fillna(method='ffill')\n",
      "C:\\Users\\JAHNAVI SAXENA\\AppData\\Local\\Temp\\ipykernel_17552\\712988860.py:3: FutureWarning: Series.fillna with 'method' is deprecated and will raise in a future version. Use obj.ffill() or obj.bfill() instead.\n",
      "  backward_fill = df['Marks'].fillna(method='bfill')\n"
     ]
    }
   ],
   "source": [
    "# Forward and Backward Fill\n",
    "forward_fill = df['Marks'].fillna(method='ffill')\n",
    "backward_fill = df['Marks'].fillna(method='bfill')\n",
    "\n",
    "print(\"\\nForward Fill:\")\n",
    "print(forward_fill)\n",
    "\n",
    "print(\"\\nBackward Fill:\")\n",
    "print(backward_fill)\n"
   ]
  },
  {
   "cell_type": "code",
   "execution_count": 6,
   "metadata": {},
   "outputs": [
    {
     "name": "stdout",
     "output_type": "stream",
     "text": [
      "\n",
      "Linear Interpolation:\n",
      "0    85.0\n",
      "1    92.0\n",
      "2    78.0\n",
      "3    89.0\n",
      "4    92.0\n",
      "5    95.0\n",
      "6    80.0\n",
      "7    88.0\n",
      "Name: Marks, dtype: float64\n",
      "\n",
      "Quadratic Interpolation:\n",
      "0    85.00000\n",
      "1    92.00000\n",
      "2    78.00000\n",
      "3    89.00000\n",
      "4    98.28024\n",
      "5    95.00000\n",
      "6    80.00000\n",
      "7    88.00000\n",
      "Name: Marks, dtype: float64\n"
     ]
    }
   ],
   "source": [
    "#  Interpolation Techniques\n",
    "linear_interpolation = df['Marks'].interpolate(method='linear')\n",
    "quadratic_interpolation = df['Marks'].interpolate(method='quadratic')\n",
    "\n",
    "print(\"\\nLinear Interpolation:\")\n",
    "print(linear_interpolation)\n",
    "\n",
    "print(\"\\nQuadratic Interpolation:\")\n",
    "print(quadratic_interpolation)\n"
   ]
  }
 ],
 "metadata": {
  "kernelspec": {
   "display_name": "Python 3",
   "language": "python",
   "name": "python3"
  },
  "language_info": {
   "codemirror_mode": {
    "name": "ipython",
    "version": 3
   },
   "file_extension": ".py",
   "mimetype": "text/x-python",
   "name": "python",
   "nbconvert_exporter": "python",
   "pygments_lexer": "ipython3",
   "version": "3.12.1"
  }
 },
 "nbformat": 4,
 "nbformat_minor": 2
}
